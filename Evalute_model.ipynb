{
  "nbformat": 4,
  "nbformat_minor": 0,
  "metadata": {
    "colab": {
      "name": "Evalute_model.ipynb",
      "provenance": [],
      "authorship_tag": "ABX9TyPJTVPzNqLBnj7cCgu5FOs6",
      "include_colab_link": true
    },
    "kernelspec": {
      "name": "python3",
      "display_name": "Python 3"
    }
  },
  "cells": [
    {
      "cell_type": "markdown",
      "metadata": {
        "id": "view-in-github",
        "colab_type": "text"
      },
      "source": [
        "<a href=\"https://colab.research.google.com/github/mohammad2682/AVR-EEPROM-/blob/master/Evalute_model.ipynb\" target=\"_parent\"><img src=\"https://colab.research.google.com/assets/colab-badge.svg\" alt=\"Open In Colab\"/></a>"
      ]
    },
    {
      "cell_type": "code",
      "metadata": {
        "id": "BhfCY2OD5iEq",
        "colab_type": "code",
        "colab": {
          "base_uri": "https://localhost:8080/",
          "height": 121
        },
        "outputId": "f4e2c711-8183-4034-d43e-2d1d32f4ebbe"
      },
      "source": [
        "from google.colab import drive\n",
        "drive.mount('/content/gdrive')"
      ],
      "execution_count": 1,
      "outputs": [
        {
          "output_type": "stream",
          "text": [
            "Go to this URL in a browser: https://accounts.google.com/o/oauth2/auth?client_id=947318989803-6bn6qk8qdgf4n4g3pfee6491hc0brc4i.apps.googleusercontent.com&redirect_uri=urn%3aietf%3awg%3aoauth%3a2.0%3aoob&response_type=code&scope=email%20https%3a%2f%2fwww.googleapis.com%2fauth%2fdocs.test%20https%3a%2f%2fwww.googleapis.com%2fauth%2fdrive%20https%3a%2f%2fwww.googleapis.com%2fauth%2fdrive.photos.readonly%20https%3a%2f%2fwww.googleapis.com%2fauth%2fpeopleapi.readonly\n",
            "\n",
            "Enter your authorization code:\n",
            "··········\n",
            "Mounted at /content/gdrive\n"
          ],
          "name": "stdout"
        }
      ]
    },
    {
      "cell_type": "code",
      "metadata": {
        "id": "UciaX2za5ww8",
        "colab_type": "code",
        "colab": {}
      },
      "source": [
        "import keras\n",
        "model = keras.models.load_model('gdrive/My Drive/COVID19.h5')"
      ],
      "execution_count": 8,
      "outputs": []
    },
    {
      "cell_type": "code",
      "metadata": {
        "id": "EzQxT2Wu6Ie-",
        "colab_type": "code",
        "colab": {
          "base_uri": "https://localhost:8080/",
          "height": 202
        },
        "outputId": "b5469b96-c294-4f30-aa27-8b3e630ea341"
      },
      "source": [
        "!ls gdrive/My\\ Drive/"
      ],
      "execution_count": 7,
      "outputs": [
        {
          "output_type": "stream",
          "text": [
            " Akradi_Mohamad_BspHw2.pdf\t     'nuclear imaging course'\n",
            " Classroom\t\t\t      shenasname.jpg\n",
            " CNN_Data\t\t\t      signature.jpg\n",
            "'Colab Notebooks'\t\t     'Spotify-Accounts[RexWeb.info].gdoc'\n",
            " COVID19.h5\t\t\t     'Tehran brhk program(1).pdf'\n",
            " ECG.jpg\t\t\t      Test.gdoc\n",
            " fire-dataset\t\t\t      Untitled0.ipynb\n",
            " fire_smoke_normallds.h5\t     'Untitled document.gdoc'\n",
            "'How to get started with Drive.pdf'  'Untitled form.gform'\n",
            " hw1-MohammadAkradi.pdf\t\t     'Untitled spreadsheet.gsheet'\n",
            " ML-CNN.ipynb\n"
          ],
          "name": "stdout"
        }
      ]
    },
    {
      "cell_type": "code",
      "metadata": {
        "id": "abWD3cwo6M6K",
        "colab_type": "code",
        "colab": {
          "base_uri": "https://localhost:8080/",
          "height": 622
        },
        "outputId": "23e12e1b-de10-4aef-cb94-a18d0e9b2f62"
      },
      "source": [
        "model.summary()"
      ],
      "execution_count": 9,
      "outputs": [
        {
          "output_type": "stream",
          "text": [
            "Model: \"sequential_3\"\n",
            "_________________________________________________________________\n",
            "Layer (type)                 Output Shape              Param #   \n",
            "=================================================================\n",
            "conv2d_7 (Conv2D)            (None, 122, 122, 32)      4736      \n",
            "_________________________________________________________________\n",
            "dropout_9 (Dropout)          (None, 122, 122, 32)      0         \n",
            "_________________________________________________________________\n",
            "activation_3 (Activation)    (None, 122, 122, 32)      0         \n",
            "_________________________________________________________________\n",
            "max_pooling2d_7 (MaxPooling2 (None, 61, 61, 32)        0         \n",
            "_________________________________________________________________\n",
            "conv2d_8 (Conv2D)            (None, 55, 55, 64)        100416    \n",
            "_________________________________________________________________\n",
            "dropout_10 (Dropout)         (None, 55, 55, 64)        0         \n",
            "_________________________________________________________________\n",
            "max_pooling2d_8 (MaxPooling2 (None, 27, 27, 64)        0         \n",
            "_________________________________________________________________\n",
            "conv2d_9 (Conv2D)            (None, 21, 21, 128)       401536    \n",
            "_________________________________________________________________\n",
            "dropout_11 (Dropout)         (None, 21, 21, 128)       0         \n",
            "_________________________________________________________________\n",
            "max_pooling2d_9 (MaxPooling2 (None, 10, 10, 128)       0         \n",
            "_________________________________________________________________\n",
            "flatten_3 (Flatten)          (None, 12800)             0         \n",
            "_________________________________________________________________\n",
            "dense_5 (Dense)              (None, 64)                819264    \n",
            "_________________________________________________________________\n",
            "dropout_12 (Dropout)         (None, 64)                0         \n",
            "_________________________________________________________________\n",
            "dense_6 (Dense)              (None, 2)                 130       \n",
            "=================================================================\n",
            "Total params: 1,326,082\n",
            "Trainable params: 1,326,082\n",
            "Non-trainable params: 0\n",
            "_________________________________________________________________\n"
          ],
          "name": "stdout"
        }
      ]
    },
    {
      "cell_type": "code",
      "metadata": {
        "id": "8vitfqmU6cJK",
        "colab_type": "code",
        "colab": {
          "base_uri": "https://localhost:8080/",
          "height": 151
        },
        "outputId": "b0eec3c9-ff8e-4be6-fba4-21266b91ec48"
      },
      "source": [
        "!git clone https://github.com/mohammad2682/Covid19-Dataset"
      ],
      "execution_count": 10,
      "outputs": [
        {
          "output_type": "stream",
          "text": [
            "Cloning into 'Covid19-Dataset'...\n",
            "remote: Enumerating objects: 21, done.\u001b[K\n",
            "remote: Counting objects: 100% (21/21), done.\u001b[K\n",
            "remote: Compressing objects: 100% (21/21), done.\u001b[K\n",
            "remote: Total 2523 (delta 6), reused 0 (delta 0), pack-reused 2502\u001b[K\n",
            "Receiving objects: 100% (2523/2523), 229.95 MiB | 13.49 MiB/s, done.\n",
            "Resolving deltas: 100% (9/9), done.\n",
            "Checking out files: 100% (4965/4965), done.\n"
          ],
          "name": "stdout"
        }
      ]
    },
    {
      "cell_type": "code",
      "metadata": {
        "id": "uQePWbXv6htQ",
        "colab_type": "code",
        "colab": {
          "base_uri": "https://localhost:8080/",
          "height": 343
        },
        "outputId": "c19f0511-ed82-4b8d-98ee-10da7fb63c4c"
      },
      "source": [
        "import os\n",
        "import pandas as pd\n",
        "disease_types=['COVID', 'non-COVID']\n",
        "data_dir = 'Covid19-Dataset/Covid-19-Dataset/train'\n",
        "train_dir = os.path.join(data_dir)\n",
        "\n",
        "train_data = []\n",
        "for defects_id, sp in enumerate(disease_types):\n",
        "    for file in os.listdir(os.path.join(train_dir, sp)):\n",
        "        train_data.append(['{}/{}'.format(sp, file), defects_id, sp])\n",
        "        \n",
        "train = pd.DataFrame(train_data, columns=['File', 'DiseaseID','Disease Type'])\n",
        "train.head(10)"
      ],
      "execution_count": 71,
      "outputs": [
        {
          "output_type": "execute_result",
          "data": {
            "text/html": [
              "<div>\n",
              "<style scoped>\n",
              "    .dataframe tbody tr th:only-of-type {\n",
              "        vertical-align: middle;\n",
              "    }\n",
              "\n",
              "    .dataframe tbody tr th {\n",
              "        vertical-align: top;\n",
              "    }\n",
              "\n",
              "    .dataframe thead th {\n",
              "        text-align: right;\n",
              "    }\n",
              "</style>\n",
              "<table border=\"1\" class=\"dataframe\">\n",
              "  <thead>\n",
              "    <tr style=\"text-align: right;\">\n",
              "      <th></th>\n",
              "      <th>File</th>\n",
              "      <th>DiseaseID</th>\n",
              "      <th>Disease Type</th>\n",
              "    </tr>\n",
              "  </thead>\n",
              "  <tbody>\n",
              "    <tr>\n",
              "      <th>0</th>\n",
              "      <td>COVID/Covid (378).png</td>\n",
              "      <td>0</td>\n",
              "      <td>COVID</td>\n",
              "    </tr>\n",
              "    <tr>\n",
              "      <th>1</th>\n",
              "      <td>COVID/Covid (105).png</td>\n",
              "      <td>0</td>\n",
              "      <td>COVID</td>\n",
              "    </tr>\n",
              "    <tr>\n",
              "      <th>2</th>\n",
              "      <td>COVID/Covid (690).png</td>\n",
              "      <td>0</td>\n",
              "      <td>COVID</td>\n",
              "    </tr>\n",
              "    <tr>\n",
              "      <th>3</th>\n",
              "      <td>COVID/Covid (749).png</td>\n",
              "      <td>0</td>\n",
              "      <td>COVID</td>\n",
              "    </tr>\n",
              "    <tr>\n",
              "      <th>4</th>\n",
              "      <td>COVID/Covid (147).png</td>\n",
              "      <td>0</td>\n",
              "      <td>COVID</td>\n",
              "    </tr>\n",
              "    <tr>\n",
              "      <th>5</th>\n",
              "      <td>COVID/Covid (614).png</td>\n",
              "      <td>0</td>\n",
              "      <td>COVID</td>\n",
              "    </tr>\n",
              "    <tr>\n",
              "      <th>6</th>\n",
              "      <td>COVID/Covid (1007).png</td>\n",
              "      <td>0</td>\n",
              "      <td>COVID</td>\n",
              "    </tr>\n",
              "    <tr>\n",
              "      <th>7</th>\n",
              "      <td>COVID/Covid (1133).png</td>\n",
              "      <td>0</td>\n",
              "      <td>COVID</td>\n",
              "    </tr>\n",
              "    <tr>\n",
              "      <th>8</th>\n",
              "      <td>COVID/Covid (449).png</td>\n",
              "      <td>0</td>\n",
              "      <td>COVID</td>\n",
              "    </tr>\n",
              "    <tr>\n",
              "      <th>9</th>\n",
              "      <td>COVID/Covid (1056).png</td>\n",
              "      <td>0</td>\n",
              "      <td>COVID</td>\n",
              "    </tr>\n",
              "  </tbody>\n",
              "</table>\n",
              "</div>"
            ],
            "text/plain": [
              "                     File  DiseaseID Disease Type\n",
              "0   COVID/Covid (378).png          0        COVID\n",
              "1   COVID/Covid (105).png          0        COVID\n",
              "2   COVID/Covid (690).png          0        COVID\n",
              "3   COVID/Covid (749).png          0        COVID\n",
              "4   COVID/Covid (147).png          0        COVID\n",
              "5   COVID/Covid (614).png          0        COVID\n",
              "6  COVID/Covid (1007).png          0        COVID\n",
              "7  COVID/Covid (1133).png          0        COVID\n",
              "8   COVID/Covid (449).png          0        COVID\n",
              "9  COVID/Covid (1056).png          0        COVID"
            ]
          },
          "metadata": {
            "tags": []
          },
          "execution_count": 71
        }
      ]
    },
    {
      "cell_type": "code",
      "metadata": {
        "id": "2B9YCNuo6q1U",
        "colab_type": "code",
        "colab": {}
      },
      "source": [
        "IMAGE_SIZE = 128\n",
        "def read_image(filepath):\n",
        "    return cv2.imread(os.path.join(data_dir, filepath)) # Loading a color image is the default flag\n",
        "# Resize image to target size\n",
        "def resize_image(image, image_size):\n",
        "    return cv2.resize(image.copy(), image_size, interpolation=cv2.INTER_AREA)"
      ],
      "execution_count": 25,
      "outputs": []
    },
    {
      "cell_type": "code",
      "metadata": {
        "id": "9JQ5typq60Ar",
        "colab_type": "code",
        "colab": {
          "base_uri": "https://localhost:8080/",
          "height": 50
        },
        "outputId": "166b20f6-dcbd-4a7d-f66f-32b2eb850461"
      },
      "source": [
        "from tqdm import tqdm\n",
        "import numpy as np\n",
        "import cv2\n",
        "\n",
        "X_train = np.zeros((train.shape[0], IMAGE_SIZE, IMAGE_SIZE, 3))\n",
        "for i, file in tqdm(enumerate(train['File'].values)):\n",
        "    image = read_image(file)\n",
        "    if image is not None:\n",
        "        X_train[i] = resize_image(image, (IMAGE_SIZE, IMAGE_SIZE))\n",
        "# Normalize the data\n",
        "X_Train = X_train / 255.\n",
        "print('Train Shape: {}'.format(X_Train.shape))"
      ],
      "execution_count": 77,
      "outputs": [
        {
          "output_type": "stream",
          "text": [
            "2000it [00:09, 220.31it/s]\n"
          ],
          "name": "stderr"
        },
        {
          "output_type": "stream",
          "text": [
            "Train Shape: (2000, 128, 128, 3)\n"
          ],
          "name": "stdout"
        }
      ]
    },
    {
      "cell_type": "code",
      "metadata": {
        "id": "Nt_N2avq8kX4",
        "colab_type": "code",
        "colab": {}
      },
      "source": [
        "from sklearn.model_selection import train_test_split"
      ],
      "execution_count": 33,
      "outputs": []
    },
    {
      "cell_type": "code",
      "metadata": {
        "id": "kD2oqedl62Xi",
        "colab_type": "code",
        "colab": {}
      },
      "source": [
        "from keras.utils.np_utils import to_categorical\n",
        "from matplotlib import pyplot as plt\n",
        "\n",
        "Y_train = train['DiseaseID'].values\n",
        "Y_train = to_categorical(Y_train, num_classes=2)"
      ],
      "execution_count": 78,
      "outputs": []
    },
    {
      "cell_type": "code",
      "metadata": {
        "id": "pYcOZdsF8qJY",
        "colab_type": "code",
        "colab": {}
      },
      "source": [
        "SEED=42\n",
        "# Split the train and validation sets \n",
        "X_train, X_val, Y_train, Y_val = train_test_split(X_Train, Y_train, test_size=0.2, random_state=SEED)"
      ],
      "execution_count": 79,
      "outputs": []
    },
    {
      "cell_type": "code",
      "metadata": {
        "id": "au0eIIlU6_gj",
        "colab_type": "code",
        "colab": {
          "base_uri": "https://localhost:8080/",
          "height": 703
        },
        "outputId": "99addcbb-7682-4c4c-d589-7a5adce2050d"
      },
      "source": [
        "from sklearn.metrics import confusion_matrix\n",
        "import seaborn as sns\n",
        "\n",
        "Y_pred = model.predict(X_val)\n",
        "\n",
        "Y_pred = np.argmax(Y_pred, axis=1)\n",
        "Y_true = np.argmax(Y_val, axis=1)\n",
        "\n",
        "cm = confusion_matrix(Y_true, Y_pred)\n",
        "plt.figure(figsize=(12, 12))\n",
        "ax = sns.heatmap(cm, cmap=plt.cm.Greens, annot=True, square=True, xticklabels=disease_types, yticklabels=disease_types)\n",
        "ax.set_ylabel('Actual', fontsize=40)\n",
        "ax.set_xlabel('Predicted', fontsize=40)"
      ],
      "execution_count": 36,
      "outputs": [
        {
          "output_type": "execute_result",
          "data": {
            "text/plain": [
              "Text(0.5, 145.31999999999996, 'Predicted')"
            ]
          },
          "metadata": {
            "tags": []
          },
          "execution_count": 36
        },
        {
          "output_type": "display_data",
          "data": {
            "image/png": "[encoded data removed]",
            "text/plain": [
              "<Figure size 864x864 with 2 Axes>"
            ]
          },
          "metadata": {
            "tags": [],
            "needs_background": "light"
          }
        }
      ]
    },
    {
      "cell_type": "code",
      "metadata": {
        "id": "N-sW8Kxx7VYS",
        "colab_type": "code",
        "colab": {
          "base_uri": "https://localhost:8080/",
          "height": 34
        },
        "outputId": "9fa5a797-aab2-44a8-e9c4-fba576cb9b9f"
      },
      "source": [
        "result = model.predict(X_val)\n",
        "r = abs(np.round(result)-Y_val).sum()\n",
        "(2000-r)/2000"
      ],
      "execution_count": 80,
      "outputs": [
        {
          "output_type": "execute_result",
          "data": {
            "text/plain": [
              "0.969"
            ]
          },
          "metadata": {
            "tags": []
          },
          "execution_count": 80
        }
      ]
    },
    {
      "cell_type": "code",
      "metadata": {
        "id": "ZQAqdNRN8ZTw",
        "colab_type": "code",
        "colab": {}
      },
      "source": [
        "from sklearn.datasets import make_circles\n",
        "from sklearn.metrics import accuracy_score\n",
        "from sklearn.metrics import precision_score\n",
        "from sklearn.metrics import recall_score\n",
        "from sklearn.metrics import f1_score\n",
        "from sklearn.metrics import cohen_kappa_score\n",
        "from sklearn.metrics import roc_auc_score\n",
        "from sklearn.metrics import confusion_matrix\n",
        "from keras.models import Sequential\n",
        "from keras.layers import Dense"
      ],
      "execution_count": 31,
      "outputs": []
    },
    {
      "cell_type": "code",
      "metadata": {
        "id": "cSE_ocNm8a52",
        "colab_type": "code",
        "colab": {}
      },
      "source": [
        "# predict probabilities for test set\n",
        "yhat_probs = model.predict(X_val, verbose=0)\n",
        "# predict crisp classes for test set\n",
        "yhat_classes = np.round(model.predict(X_val))"
      ],
      "execution_count": 91,
      "outputs": []
    },
    {
      "cell_type": "code",
      "metadata": {
        "id": "Wq8SeOcJ9WbN",
        "colab_type": "code",
        "colab": {}
      },
      "source": [
        "# reduce to 1d array\n",
        "yhat_probs = yhat_probs[:, 0]\n",
        "yhat_classes = yhat_classes[:, 0]\n",
        "Y_val2 = Y_val[:,0]"
      ],
      "execution_count": 92,
      "outputs": []
    },
    {
      "cell_type": "markdown",
      "metadata": {
        "id": "Bd4ir_MPA-l_",
        "colab_type": "text"
      },
      "source": [
        "## Evaluating with F1Score"
      ]
    },
    {
      "cell_type": "code",
      "metadata": {
        "id": "wLufw45Y9ds1",
        "colab_type": "code",
        "colab": {
          "base_uri": "https://localhost:8080/",
          "height": 84
        },
        "outputId": "2ed5733c-157e-41d7-ac80-14ef84a0e620"
      },
      "source": [
        "# accuracy: (tp + tn) / (p + n)\n",
        "accuracy = accuracy_score(Y_val2, yhat_classes)\n",
        "print('Accuracy: %f' % accuracy)\n",
        "# precision tp / (tp + fp)\n",
        "precision = precision_score(Y_val2, yhat_classes)\n",
        "print('Precision: %f' % precision)\n",
        "# recall: tp / (tp + fn)\n",
        "recall = recall_score(Y_val2, yhat_classes)\n",
        "print('Recall: %f' % recall)\n",
        "# f1: 2 tp / (2 tp + fp + fn)\n",
        "f1 = f1_score(Y_val2, yhat_classes)\n",
        "print('F1 score: %f' % f1)"
      ],
      "execution_count": 93,
      "outputs": [
        {
          "output_type": "stream",
          "text": [
            "Accuracy: 0.922500\n",
            "Precision: 0.982759\n",
            "Recall: 0.859296\n",
            "F1 score: 0.916890\n"
          ],
          "name": "stdout"
        }
      ]
    },
    {
      "cell_type": "markdown",
      "metadata": {
        "id": "qv8r0znwAuf3",
        "colab_type": "text"
      },
      "source": [
        "## Evaluating with ROC & Kappa"
      ]
    },
    {
      "cell_type": "code",
      "metadata": {
        "id": "B3UxR1gMAwdm",
        "colab_type": "code",
        "colab": {
          "base_uri": "https://localhost:8080/",
          "height": 151
        },
        "outputId": "8b8030ea-f73d-47b7-d8c3-b1e302481930"
      },
      "source": [
        "# kappa\n",
        "kappa = cohen_kappa_score(Y_val2, yhat_classes)\n",
        "print('Cohens kappa: %f' % kappa)\n",
        "# ROC AUC\n",
        "auc = roc_auc_score(Y_val2, yhat_probs)\n",
        "print('ROC AUC: %f' % auc)\n",
        "# confusion matrix\n",
        "matrix = confusion_matrix(Y_val2, yhat_classes)\n",
        "print(matrix)\n",
        "\n",
        "# kappa\n",
        "kappa = cohen_kappa_score(Y_val2, yhat_classes)\n",
        "print('Cohens kappa: %f' % kappa)\n",
        "# ROC AUC\n",
        "auc = roc_auc_score(Y_val2, yhat_probs)\n",
        "print('ROC AUC: %f' % auc)\n",
        "# confusion matrix\n",
        "matrix = confusion_matrix(Y_val2, yhat_classes)\n",
        "print(matrix)"
      ],
      "execution_count": 94,
      "outputs": [
        {
          "output_type": "stream",
          "text": [
            "Cohens kappa: 0.844899\n",
            "ROC AUC: 0.983200\n",
            "[[198   3]\n",
            " [ 28 171]]\n",
            "Cohens kappa: 0.844899\n",
            "ROC AUC: 0.983200\n",
            "[[198   3]\n",
            " [ 28 171]]\n"
          ],
          "name": "stdout"
        }
      ]
    }
  ]
}